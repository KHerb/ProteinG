{
 "cells": [
  {
   "cell_type": "code",
   "execution_count": 2,
   "metadata": {
    "collapsed": false,
    "scrolled": true
   },
   "outputs": [
    {
     "name": "stdout",
     "output_type": "stream",
     "text": [
      "Populating the interactive namespace from numpy and matplotlib\n",
      "\n"
     ]
    }
   ],
   "source": [
    "import subprocess\n",
    "import numpy as np\n",
    "import mdtraj as md\n",
    "import time\n",
    "from tqdm import tqdm_notebook\n",
    "import matplotlib.pyplot as plt\n",
    "%pylab inline\n",
    "\n",
    "#runs/clones are indexed\n",
    "nruns = 150\n",
    "nclones = 40\n",
    "trajs = []\n",
    "#some .xtc files list a negative trajectory length, appending here for now\n",
    "bad_trajs_run = []\n",
    "bad_trajs_clone = []\n",
    "\n",
    "gro_reference = '/home/karl/VoelzLab/ProteinG/gro/p8600/protein_only.gro'\n",
    "traj_references = '/media/karl/VAV6/PROJ8600/RUN%d/CLONE%d/frame%d.xtc'\n",
    "\n",
    "\n",
    "#Since we want only trajectory length, load last .xtc in every RUN/CLONE, append .time[-1] to empty list\n",
    "#.xtc files with bad traj. lengths appended to different empty list for reference\n",
    "for run in tqdm_notebook(range(nruns),desc='Loading Trajs'):\n",
    "    time.sleep(0.01)\n",
    "    for clone in range(nclones):\n",
    "        nframes = int(subprocess.check_output('ls /media/karl/VAV6/PROJ8600/RUN%d/CLONE%d/frame*.xtc | wc -l'% (run,clone),shell=True))\n",
    "        if nframes >= 1:\n",
    "            frame=nframes-1\n",
    "            loadtrajs = md.load(traj_references%(run,clone,(frame)),top=gro_reference).time[-1]\n",
    "            if loadtrajs >= 0:\n",
    "                trajs.append(loadtrajs)\n",
    "            else:\n",
    "                bad_trajs_run.append(run)\n",
    "                bad_trajs_clone.append(clone)"
   ]
  },
  {
   "cell_type": "code",
   "execution_count": 3,
   "metadata": {
    "collapsed": false,
    "scrolled": true
   },
   "outputs": [
    {
     "data": {
      "image/png": "[encoded data removed]",
      "text/plain": [
       "<matplotlib.figure.Figure at 0x7fa14f4ac310>"
      ]
     },
     "metadata": {},
     "output_type": "display_data"
    },
    {
     "name": "stdout",
     "output_type": "stream",
     "text": [
      "Total Trajectories: 6000\n",
      "Number of Bad Trajectories: 275\n",
      "Number of CLONES with no trajectories: 122\n",
      "\n",
      "Longest Trajectory length: 4290 ns\n",
      "Average Trajectory Length: 419 ns\n"
     ]
    },
    {
     "data": {
      "text/plain": [
       "<matplotlib.figure.Figure at 0x7fa14f172cd0>"
      ]
     },
     "metadata": {},
     "output_type": "display_data"
    }
   ],
   "source": [
    "#1 ps = 1E-03 ns\n",
    "ns = 0.001\n",
    "#np.array of traj lengths -> [ 1550.   830.   210. ...,  1190.   580.   870.]\n",
    "traj_lengths = [ns*float(t) for t in trajs]\n",
    "\n",
    "#bins -> trajectories with x length [0.0, 10.0. 15.0 ..., 4300]\n",
    "#counts -> number of trajectories with x length (ie there are 177 clones that have a max traj. length of 10.0 ns )\n",
    "bins = np.arange(0,4320,10)\n",
    "counts, bins = np.histogram(traj_lengths,bins)\n",
    "\n",
    "\n",
    "#to get correct indexing range for both counts/bins, otherwise plt.step(x,y) gives dimension error\n",
    "#4300 ns is longest traj -> last bin at 4300\n",
    "final_bins = np.arange(0,4310,10)\n",
    "counts1 = []\n",
    "for i in range(len(bins)-1):\n",
    "    counts1.append(counts[i])\n",
    "final_counts = [counts1[i].astype(int) for i in range(len(bins)-1)]\n",
    "\n",
    "#Average Trajectory Length for PROJ6391\n",
    "midpoint = [0.5*i for i in final_bins] #first get average of bin width\n",
    "avg = sum([int(final_counts[i]*midpoint[i]) for i in range(len(midpoint)-1)])/sum(final_counts) #avg. bin width*count length/total counts\n",
    "\n",
    "# Longest traj. Length\n",
    "trajs.sort()\n",
    "longest_traj_len = trajs[-1]\n",
    "\n",
    "#CLONES with no Trajs.\n",
    "zerotrajs = (nruns*nclones)-(len(bad_trajs_clone)+len(trajs))\n",
    "\n",
    "#Histogram\n",
    "plt.figure()\n",
    "plt.step(final_bins,final_counts)\n",
    "plt.xlabel('trajectory length (ns)')\n",
    "plt.ylabel('number of trajectories')\n",
    "plt.title(\"Histogram of Trajectory Lengths\")\n",
    "plt.axis([0,4500,0,200])\n",
    "plt.grid(True)\n",
    "plt.show()\n",
    "plt.savefig('TrajLengthPROJ8600')\n",
    "print \"Total Trajectories: %d\" % (nruns*nclones)\n",
    "print \"Number of Bad Trajectories: %d\" % len(bad_trajs_clone)\n",
    "print \"Number of CLONES with no trajectories: %d\" % zerotrajs\n",
    "print\n",
    "print \"Longest Trajectory length: %d ns\" % (longest_traj_len*ns)\n",
    "print \"Average Trajectory Length: %d ns\" % avg\n"
   ]
  },
  {
   "cell_type": "code",
   "execution_count": null,
   "metadata": {
    "collapsed": true
   },
   "outputs": [],
   "source": []
  }
 ],
 "metadata": {
  "anaconda-cloud": {},
  "kernelspec": {
   "display_name": "Python [Root]",
   "language": "python",
   "name": "Python [Root]"
  },
  "language_info": {
   "codemirror_mode": {
    "name": "ipython",
    "version": 2
   },
   "file_extension": ".py",
   "mimetype": "text/x-python",
   "name": "python",
   "nbconvert_exporter": "python",
   "pygments_lexer": "ipython2",
   "version": "2.7.12"
  }
 },
 "nbformat": 4,
 "nbformat_minor": 0
}
