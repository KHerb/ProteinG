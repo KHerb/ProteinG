{
 "cells": [
  {
   "cell_type": "code",
   "execution_count": 4,
   "metadata": {
    "collapsed": false
   },
   "outputs": [
    {
     "name": "stdout",
     "output_type": "stream",
     "text": [
      "[1550000.0, 830000.0, 210000.0, 510000.0, 420000.0, 940000.0, 1100000.0, 620000.0, 140000.0, 170000.0, 340000.0, 1030000.0, 610000.0, 430000.0, 260000.0, 250000.0, 150000.0, 70000.0, 1220000.0, 1070000.0, 630000.0, 1040000.0, 110000.0, 1100000.0, 110000.0, 640000.0, 320000.0, 1390000.0, 770000.0, 390000.0, 1070000.0, 170000.0, 1050000.0, 260000.0, 490000.0, 160000.0, 2140000.0, 70000.0, 110000.0, 680000.0, 1160000.0, 80000.0, 450000.0, 160000.0, 240000.0, 240000.0, 140000.0, 280000.0, 1070000.0, 1040000.0, 770000.0, 1040000.0, 520000.0, 490000.0, 1110000.0, 30000.0, 510000.0, 1070000.0, 570000.0, 390000.0, 600000.0, 1290000.0, 520000.0, 790000.0, 80000.0, 480000.0, 1060000.0, 1000000.0, 1010000.0, 250000.0, 230000.0, 420000.0, 1150000.0, 1160000.0, 270000.0, 90000.0, 1410000.0, 140000.0, 360000.0, 1200000.0, 1000000.0, 370000.0, 810000.0, 50000.0, 540000.0, 1370000.0, 440000.0, 480000.0, 970000.0, 2050000.0, 660000.0, 100000.0, 60000.0, 450000.0]\n"
     ]
    }
   ],
   "source": [
    "import subprocess\n",
    "import numpy as np\n",
    "import mdtraj as md\n",
    "\n",
    "gro_reference = '/Users/tue53144/Gprotein/GRO/p6391/protein_only.gro'\n",
    "traj_references = '/Volumes/Vav6/PROJ6391/RUN%d/CLONE%d/frame%d.xtc'\n",
    "\n",
    "trajs=[]\n",
    "for i in range(10):\n",
    "    for x in range(10):\n",
    "        nframes = int(subprocess.check_output('ls /Volumes/Vav6/PROJ6391/RUN%d/CLONE%d/frame*.xtc | wc -l'% (i,x),shell=True))\n",
    "        if nframes >= 1:\n",
    "            frame=nframes-1\n",
    "            load = md.load(traj_references%(i,x,(frame)),top=gro_reference).time[-1]\n",
    "            if load >=0:\n",
    "                trajs.append(load)\n",
    "\n",
    "print trajs"
   ]
  },
  {
   "cell_type": "code",
   "execution_count": 16,
   "metadata": {
    "collapsed": false
   },
   "outputs": [
    {
     "name": "stdout",
     "output_type": "stream",
     "text": [
      "<mdtraj.Trajectory with 101 frames, 261 atoms, 16 residues, and unitcells> <mdtraj.Trajectory with 101 frames, 261 atoms, 16 residues, and unitcells>\n"
     ]
    }
   ],
   "source": [
    "example = md.load('/Volumes/VAV6/PROJ6391/RUN0/CLONE0/frame154.xtc',top=gro_reference)\n",
    "example2= md.load('/Volumes/VAV6/PROJ6391/RUN0/CLONE0/frame0.xtc',top=gro_reference)\n",
    "print example,example2"
   ]
  },
  {
   "cell_type": "code",
   "execution_count": 21,
   "metadata": {
    "collapsed": false
   },
   "outputs": [
    {
     "name": "stdout",
     "output_type": "stream",
     "text": [
      "[ 1.81101322  1.78429198  1.70754051  1.820997    1.73058569  1.72830343\n",
      "  1.71213651  1.69895506  1.76024961  1.69859254  1.8014555   1.72507823\n",
      "  1.74035275  1.73483551  1.95648229  1.83232737  1.7551657   1.80875278\n",
      "  1.79913092  1.85496497  1.78550828  1.87170684  1.82885683  1.78809512\n",
      "  1.7702055   1.77311194  1.7803458   1.77865183  1.77932644  1.77311504\n",
      "  1.80479133  1.89072442  1.84203184  1.87850344  1.76261163  1.8119123\n",
      "  1.77787077  1.8137852   1.8710829   1.79413128  1.80124891  1.89243853\n",
      "  1.81511641  1.68060899  1.8201139   1.67183375  1.74415159  1.68334055\n",
      "  1.68073189  1.69348216  1.7100426   1.74500275  1.71608663  1.72038174\n",
      "  1.74089384  1.73250234  1.70313156  1.71932518  1.702739    1.7111026\n",
      "  1.72655642  1.72001779  1.73556495  1.74627042  1.74401534  1.74300766\n",
      "  1.72730827  1.76271653  1.79628515  1.78702509  1.78829908  1.77615285\n",
      "  1.80484521  1.78379524  1.77095568  1.77982008  1.78364372  1.78717554\n",
      "  1.78605509  1.76917374  1.74324322  1.7647506   1.7683233   1.77384818\n",
      "  1.80012965  1.81268084  1.83184779  1.8062886   1.80138135  1.81231892\n",
      "  1.82112086  1.80775881  1.83384311  1.83870888  1.83717     1.84075201\n",
      "  1.82479572  1.84790552  1.80806053  1.87257886  1.82874525]\n"
     ]
    }
   ],
   "source": [
    "example.center_coordinates()\n",
    "example2.center_coordinates()\n",
    "rmsdexample = md.rmsd(example2,example,100)\n",
    "print rmsdexample"
   ]
  },
  {
   "cell_type": "code",
   "execution_count": 18,
   "metadata": {
    "collapsed": false
   },
   "outputs": [
    {
     "name": "stdout",
     "output_type": "stream",
     "text": [
      "101\n"
     ]
    }
   ],
   "source": [
    "print len(rmsdexample)"
   ]
  },
  {
   "cell_type": "code",
   "execution_count": 22,
   "metadata": {
    "collapsed": false
   },
   "outputs": [
    {
     "data": {
      "text/plain": [
       "6000"
      ]
     },
     "execution_count": 22,
     "metadata": {},
     "output_type": "execute_result"
    }
   ],
   "source": [
    "150*40"
   ]
  },
  {
   "cell_type": "code",
   "execution_count": null,
   "metadata": {
    "collapsed": true
   },
   "outputs": [],
   "source": []
  }
 ],
 "metadata": {
  "kernelspec": {
   "display_name": "Python [Root]",
   "language": "python",
   "name": "Python [Root]"
  },
  "language_info": {
   "codemirror_mode": {
    "name": "ipython",
    "version": 2
   },
   "file_extension": ".py",
   "mimetype": "text/x-python",
   "name": "python",
   "nbconvert_exporter": "python",
   "pygments_lexer": "ipython2",
   "version": "2.7.12"
  }
 },
 "nbformat": 4,
 "nbformat_minor": 0
}
